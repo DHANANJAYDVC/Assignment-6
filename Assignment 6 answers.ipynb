{
 "cells": [
  {
   "cell_type": "markdown",
   "id": "e3071d26",
   "metadata": {},
   "source": [
    "Q1. What are escape characters, and how do you use them?\n",
    "\n",
    "Ans:-In Python strings, the backslash \"\\\" is a special character, also called the \"escape\" character. It is used in representing certain whitespace characters: \"\\t\" is a tab, \"\\n\" is a newline, and \"\\r\" is a carriage return"
   ]
  },
  {
   "cell_type": "code",
   "execution_count": 4,
   "id": "203331f3",
   "metadata": {},
   "outputs": [
    {
     "name": "stdout",
     "output_type": "stream",
     "text": [
      "my name is Dhananjay\n"
     ]
    }
   ],
   "source": [
    "print(\"my \\\n",
    "name \\\n",
    "is \\\n",
    "Dhananjay\")"
   ]
  },
  {
   "cell_type": "markdown",
   "id": "d5cc5235",
   "metadata": {},
   "source": [
    "Q2.What do the escape characters n and t stand for?\n",
    "\n",
    "Ans:-\"\\t\" is a tab, \"\\n\" is a newline"
   ]
  },
  {
   "cell_type": "markdown",
   "id": "db0bfb7b",
   "metadata": {},
   "source": [
    "Q3.What is the way to include backslash characters in a string?"
   ]
  },
  {
   "cell_type": "code",
   "execution_count": 5,
   "id": "e13aa3f8",
   "metadata": {},
   "outputs": [
    {
     "name": "stdout",
     "output_type": "stream",
     "text": [
      "its a back slash \\ in a line\n"
     ]
    }
   ],
   "source": [
    "print('its a back slash \\\\ in a line')"
   ]
  },
  {
   "cell_type": "markdown",
   "id": "a140dde6",
   "metadata": {},
   "source": [
    "Q4.The string \"Howl's Moving Castle\" is a correct value. Why isn't the single quote character in the word Howl's not escaped a problem?\n",
    "\n",
    "Ans:-The single quote in Howl's is fine because you've used double quotes to mark the beginning and end of the string. like wise we can use double quotes in with single quotes"
   ]
  },
  {
   "cell_type": "code",
   "execution_count": 6,
   "id": "1fecd73c",
   "metadata": {},
   "outputs": [
    {
     "name": "stdout",
     "output_type": "stream",
     "text": [
      "HowI's Moving Castle\n"
     ]
    }
   ],
   "source": [
    "print(\"HowI's Moving Castle\")"
   ]
  },
  {
   "cell_type": "code",
   "execution_count": 7,
   "id": "3b4f37b8",
   "metadata": {},
   "outputs": [
    {
     "name": "stdout",
     "output_type": "stream",
     "text": [
      "Its a \"Nice\" Day\n"
     ]
    }
   ],
   "source": [
    "# like wise we can use double quote in side single quote\n",
    "print('Its a \"Nice\" Day')"
   ]
  },
  {
   "cell_type": "markdown",
   "id": "d7bd1cd4",
   "metadata": {},
   "source": [
    "Q5.How do you write a string of newlines if you don't want to use the n character?"
   ]
  },
  {
   "cell_type": "code",
   "execution_count": 8,
   "id": "e4ba7c3d",
   "metadata": {},
   "outputs": [
    {
     "name": "stdout",
     "output_type": "stream",
     "text": [
      "printing something in new line\n",
      "newline\n"
     ]
    }
   ],
   "source": [
    "print(\"printing something in new line\",end = '\\n')\n",
    "print(\"newline\")"
   ]
  },
  {
   "cell_type": "markdown",
   "id": "4b17e77c",
   "metadata": {},
   "source": [
    "Q6.What are the values of the given expressions? 'Hello, world!'[1] 'Hello, world!'[0:5] 'Hello, world!'[:5] 'Hello, world!'[3:]"
   ]
  },
  {
   "cell_type": "code",
   "execution_count": 9,
   "id": "6021b8d6",
   "metadata": {},
   "outputs": [
    {
     "data": {
      "text/plain": [
       "'e'"
      ]
     },
     "execution_count": 9,
     "metadata": {},
     "output_type": "execute_result"
    }
   ],
   "source": [
    "'Hello, world!'[1]"
   ]
  },
  {
   "cell_type": "code",
   "execution_count": 10,
   "id": "46ae5e08",
   "metadata": {},
   "outputs": [
    {
     "data": {
      "text/plain": [
       "'Hello'"
      ]
     },
     "execution_count": 10,
     "metadata": {},
     "output_type": "execute_result"
    }
   ],
   "source": [
    "'Hello, world!'[0:5]"
   ]
  },
  {
   "cell_type": "code",
   "execution_count": 11,
   "id": "948e69b9",
   "metadata": {},
   "outputs": [
    {
     "data": {
      "text/plain": [
       "'Hello'"
      ]
     },
     "execution_count": 11,
     "metadata": {},
     "output_type": "execute_result"
    }
   ],
   "source": [
    "'Hello, world!'[:5]"
   ]
  },
  {
   "cell_type": "code",
   "execution_count": 12,
   "id": "0a2d355d",
   "metadata": {},
   "outputs": [
    {
     "data": {
      "text/plain": [
       "'lo, world!'"
      ]
     },
     "execution_count": 12,
     "metadata": {},
     "output_type": "execute_result"
    }
   ],
   "source": [
    "'Hello, world!'[3:]"
   ]
  },
  {
   "cell_type": "markdown",
   "id": "cf79b6df",
   "metadata": {},
   "source": [
    "Q7.What are the values of the following expressions? 'Hello'.upper() 'Hello'.upper().isupper() 'Hello'.upper().lower()"
   ]
  },
  {
   "cell_type": "code",
   "execution_count": 13,
   "id": "82893e82",
   "metadata": {},
   "outputs": [
    {
     "data": {
      "text/plain": [
       "'HELLO'"
      ]
     },
     "execution_count": 13,
     "metadata": {},
     "output_type": "execute_result"
    }
   ],
   "source": [
    "'Hello'.upper()"
   ]
  },
  {
   "cell_type": "code",
   "execution_count": 14,
   "id": "26201616",
   "metadata": {},
   "outputs": [
    {
     "data": {
      "text/plain": [
       "True"
      ]
     },
     "execution_count": 14,
     "metadata": {},
     "output_type": "execute_result"
    }
   ],
   "source": [
    "'Hello'.upper().isupper()"
   ]
  },
  {
   "cell_type": "code",
   "execution_count": 15,
   "id": "ef975fbf",
   "metadata": {},
   "outputs": [
    {
     "data": {
      "text/plain": [
       "'hello'"
      ]
     },
     "execution_count": 15,
     "metadata": {},
     "output_type": "execute_result"
    }
   ],
   "source": [
    "'Hello'.upper().lower()"
   ]
  },
  {
   "cell_type": "markdown",
   "id": "d78336fb",
   "metadata": {},
   "source": [
    "Q8.What are the values of the following expressions? 'Remember, remember, the fifth of July.'.split() '-'.join('There can only one.'.split())"
   ]
  },
  {
   "cell_type": "code",
   "execution_count": 16,
   "id": "ff735d66",
   "metadata": {},
   "outputs": [
    {
     "data": {
      "text/plain": [
       "['Remember,', 'remember,', 'the', 'fifth', 'of', 'July.']"
      ]
     },
     "execution_count": 16,
     "metadata": {},
     "output_type": "execute_result"
    }
   ],
   "source": [
    "'Remember, remember, the fifth of July.'.split()"
   ]
  },
  {
   "cell_type": "code",
   "execution_count": 17,
   "id": "4e72106f",
   "metadata": {},
   "outputs": [
    {
     "data": {
      "text/plain": [
       "'There-can-only-one.'"
      ]
     },
     "execution_count": 17,
     "metadata": {},
     "output_type": "execute_result"
    }
   ],
   "source": [
    "'-'.join('There can only one.'.split())"
   ]
  },
  {
   "cell_type": "markdown",
   "id": "18f21a6e",
   "metadata": {},
   "source": [
    "Q9.What are the methods for right-justifying, left-justifying, and centering a string?"
   ]
  },
  {
   "cell_type": "code",
   "execution_count": 18,
   "id": "452bb4ac",
   "metadata": {},
   "outputs": [
    {
     "data": {
      "text/plain": [
       "'Shiva-----'"
      ]
     },
     "execution_count": 18,
     "metadata": {},
     "output_type": "execute_result"
    }
   ],
   "source": [
    "# left justified\n",
    "str =\"Shiva\"\n",
    "str.ljust(10,\"-\")"
   ]
  },
  {
   "cell_type": "code",
   "execution_count": 19,
   "id": "745a095b",
   "metadata": {},
   "outputs": [
    {
     "data": {
      "text/plain": [
       "'******************************My name is'"
      ]
     },
     "execution_count": 19,
     "metadata": {},
     "output_type": "execute_result"
    }
   ],
   "source": [
    "# right justified\n",
    "str =\"My name is\"\n",
    "str.rjust(40,'*')"
   ]
  },
  {
   "cell_type": "code",
   "execution_count": 20,
   "id": "aee585fc",
   "metadata": {},
   "outputs": [
    {
     "data": {
      "text/plain": [
       "'***************My name is***************'"
      ]
     },
     "execution_count": 20,
     "metadata": {},
     "output_type": "execute_result"
    }
   ],
   "source": [
    "# center justified\n",
    "str =\"My name is\"\n",
    "str.center(40,'*')"
   ]
  },
  {
   "cell_type": "markdown",
   "id": "85a5b2bc",
   "metadata": {},
   "source": [
    "Q10.What is the best way to remove whitespace characters from the start or end?"
   ]
  },
  {
   "cell_type": "code",
   "execution_count": 21,
   "id": "cedcfaf3",
   "metadata": {},
   "outputs": [
    {
     "data": {
      "text/plain": [
       "'gfgfgfgfgfgfgf yuyuyuuyuy  '"
      ]
     },
     "execution_count": 21,
     "metadata": {},
     "output_type": "execute_result"
    }
   ],
   "source": [
    "str =\"  gfgfgfgfgfgfgf yuyuyuuyuy  \"\n",
    "str.lstrip()"
   ]
  },
  {
   "cell_type": "code",
   "execution_count": 22,
   "id": "c0e3ec28",
   "metadata": {},
   "outputs": [
    {
     "data": {
      "text/plain": [
       "'  yytytytyyt mmamamam'"
      ]
     },
     "execution_count": 22,
     "metadata": {},
     "output_type": "execute_result"
    }
   ],
   "source": [
    "str =\"  yytytytyyt mmamamam  \"\n",
    "str.rstrip()"
   ]
  }
 ],
 "metadata": {
  "kernelspec": {
   "display_name": "Python 3 (ipykernel)",
   "language": "python",
   "name": "python3"
  },
  "language_info": {
   "codemirror_mode": {
    "name": "ipython",
    "version": 3
   },
   "file_extension": ".py",
   "mimetype": "text/x-python",
   "name": "python",
   "nbconvert_exporter": "python",
   "pygments_lexer": "ipython3",
   "version": "3.9.7"
  }
 },
 "nbformat": 4,
 "nbformat_minor": 5
}
